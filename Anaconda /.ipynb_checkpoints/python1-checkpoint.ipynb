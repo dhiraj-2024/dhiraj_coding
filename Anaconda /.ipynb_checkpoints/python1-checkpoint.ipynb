{
 "cells": [
  {
   "cell_type": "code",
   "execution_count": 1,
   "id": "38589b90-be16-42c8-872e-2f1600bf1d4c",
   "metadata": {
    "tags": []
   },
   "outputs": [
    {
     "name": "stdout",
     "output_type": "stream",
     "text": [
      "1st python practical\n",
      "1: print hello world\n",
      "\n",
      "\n",
      "Hello world!!!\n",
      "\n",
      "\n",
      "2: arithmetic operation program\n",
      "\n",
      "\n",
      "enter a4\n",
      "enter b6\n",
      "sum is  10\n",
      "sbstraction is  -2\n",
      "multiplication is 24\n",
      "division is  0.6666666666666666\n",
      "\n",
      "\n",
      "3: calclate area of reactangle \n",
      "\n",
      "\n",
      "enter l3\n",
      "enter b7\n",
      "Area of rectangle is: 21\n",
      "\n",
      "\n",
      "4:calculate area of triangle and rectangle\n",
      "\n",
      "\n",
      "enter a6\n",
      "enter b9\n",
      "area of trangle is: 27.0\n",
      "area of rectangle is: 54\n",
      "\n",
      "\n",
      "5: area of circle\n",
      "\n",
      "\n",
      "enter r5\n",
      "enter pi3.14\n",
      "Area of circle with radius 5 is 78.5\n"
     ]
    }
   ],
   "source": [
    "#Name:Dhiraj Rajput\n",
    "\n",
    "print(\"1st python practical\")\n",
    "\n",
    "#1[a]print hello world\n",
    "print(\"1: print hello world\")\n",
    "print(\"\\n\")\n",
    "print(\"Hello world!!!\") \n",
    "print(\"\\n\")\n",
    "\n",
    "\n",
    "#2[b]arithmetic operation\n",
    "\n",
    "print(\"2: arithmetic operation program\")\n",
    "print(\"\\n\")\n",
    "a=int(input(\"enter a\"))\n",
    "b=int(input(\"enter b\"))\n",
    "print(\"sum is \",a+b)\n",
    "print(\"sbstraction is \",a-b)\n",
    "print(\"multiplication is\",a*b)\n",
    "print(\"division is \",a/b)\n",
    "print(\"\\n\")\n",
    "\n",
    "\n",
    "#3[c]calclate area of reactangle \n",
    "print(\"3: calclate area of reactangle \")\n",
    "print(\"\\n\")\n",
    "l=int(input(\"enter l\"))\n",
    "b=int(input(\"enter b\"))\n",
    "area=l*b\n",
    "print(\"Area of rectangle is:\",area)\n",
    "print(\"\\n\")\n",
    "\n",
    "\n",
    "#4[d]calculate area of triangle and rectangle\n",
    "print(\"4:calculate area of triangle and rectangle\")\n",
    "print(\"\\n\")\n",
    "\n",
    "a=int(input(\"enter a\"))\n",
    "b=int(input(\"enter b\"))\n",
    "print(\"area of trangle is:\",0.5*a*b)#a=length: b=height:\n",
    "print(\"area of rectangle is:\",a*b)#a=length: b=breadth:\n",
    "print(\"\\n\")\n",
    "\n",
    "\n",
    "\n",
    "#5[e]new method \n",
    "#area of circle\n",
    "print(\"5: area of circle\")\n",
    "print(\"\\n\")\n",
    "r=int(input(\"enter r\"))\n",
    "pi=float(input(\"enter pi\"))\n",
    "area=float(pi)*int(r)*int(r)\n",
    "print('Area of circle with radius {0} is {2}'.format(r,pi,area))#{0}: is a index of r similarlly {1}:is for pi and {2}:is for area\n",
    "\n",
    "\n"
   ]
  },
  {
   "cell_type": "code",
   "execution_count": 1,
   "id": "29862b7e-e32b-4665-92ab-0afc6ee0da30",
   "metadata": {},
   "outputs": [
    {
     "name": "stdout",
     "output_type": "stream",
     "text": [
      "hello\n"
     ]
    }
   ],
   "source": [
    "print(\"hello\")"
   ]
  },
  {
   "cell_type": "code",
   "execution_count": null,
   "id": "2a866cfb",
   "metadata": {},
   "outputs": [],
   "source": [
    "#calculate area of circle\n",
    "\n",
    "radius=int(input(\"enter radius:\"))\n",
    "pi=float(input(\"enter pi\"))\n",
    "area=float(pi)*int(radius)*int(radius)\n",
    "print(area)"
   ]
  },
  {
   "cell_type": "code",
   "execution_count": null,
   "id": "c9a913b0",
   "metadata": {},
   "outputs": [],
   "source": []
  },
  {
   "cell_type": "code",
   "execution_count": null,
   "id": "d5df3a54",
   "metadata": {},
   "outputs": [],
   "source": []
  }
 ],
 "metadata": {
  "kernelspec": {
   "display_name": "Python 3 (ipykernel)",
   "language": "python",
   "name": "python3"
  },
  "language_info": {
   "codemirror_mode": {
    "name": "ipython",
    "version": 3
   },
   "file_extension": ".py",
   "mimetype": "text/x-python",
   "name": "python",
   "nbconvert_exporter": "python",
   "pygments_lexer": "ipython3",
   "version": "3.11.5"
  },
  "toc-autonumbering": true,
  "toc-showmarkdowntxt": true
 },
 "nbformat": 4,
 "nbformat_minor": 5
}

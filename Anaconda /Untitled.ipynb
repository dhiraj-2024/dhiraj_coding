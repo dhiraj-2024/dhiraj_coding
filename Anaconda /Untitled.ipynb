{
 "cells": [
  {
   "cell_type": "code",
   "execution_count": 1,
   "id": "d13b8246",
   "metadata": {},
   "outputs": [
    {
     "name": "stdout",
     "output_type": "stream",
     "text": [
      "hello world\n"
     ]
    }
   ],
   "source": [
    "print(\"hello world\")"
   ]
  },
  {
   "cell_type": "code",
   "execution_count": 5,
   "id": "ab719717",
   "metadata": {},
   "outputs": [
    {
     "name": "stdout",
     "output_type": "stream",
     "text": [
      "enter length:3\n",
      "enter breadth:4\n",
      "12.0\n"
     ]
    }
   ],
   "source": [
    "#area of rectangle\n",
    "length=float(input(\"enter length:\"))\n",
    "breadth=float(input(\"enter breadth:\"))\n",
    "area=length*breadth\n",
    "print(area)"
   ]
  },
  {
   "cell_type": "code",
   "execution_count": 8,
   "id": "31aac3c4",
   "metadata": {},
   "outputs": [
    {
     "name": "stdout",
     "output_type": "stream",
     "text": [
      "union {2, 3, 4, 5, 6, 7, 9}\n",
      "intersection {2, 3, 4, 5}\n"
     ]
    }
   ],
   "source": [
    "list1={2,4,5,7,3,2,3}\n",
    "list2={4,6,9,5,3,2,6}\n",
    "print(\"union\",list1|list2)\n",
    "print(\"intersection\",list1&list2)"
   ]
  },
  {
   "cell_type": "code",
   "execution_count": 18,
   "id": "ee667ae5",
   "metadata": {},
   "outputs": [
    {
     "name": "stdout",
     "output_type": "stream",
     "text": [
      "enter your choice:3\n",
      "enter any number:2\n",
      "enter any number:5\n",
      "enter any number:3\n",
      "enter your choice:2\n",
      "enter any number:5\n",
      "enter any number:6\n",
      "union of l1 and l2 is: [2, 3]\n",
      "intersection of l1 and l2 is: []\n"
     ]
    }
   ],
   "source": [
    "l1=[]\n",
    "num1=int(input(\"enter your choice:\"))\n",
    "for n in range (num1):\n",
    "    num3=int(input(\"enter any number:\"))\n",
    "    l1.append(num1)\n",
    "    \n",
    "l2=[]\n",
    "num3=int(input(\"enter your choice:\"))\n",
    "for n in range (num3):\n",
    "    num4=int(input(\"enter any number:\"))\n",
    "    l2.append(num3)\n",
    "    \n",
    "union=list(set().union(l1,l2))\n",
    "print(\"union of l1 and l2 is:\",union)\n",
    "    \n",
    "intersection=list(set().intersection(l1,l2))\n",
    "print(\"intersection of l1 and l2 is:\",intersection)\n",
    "    "
   ]
  },
  {
   "cell_type": "code",
   "execution_count": 8,
   "id": "077c56ca",
   "metadata": {},
   "outputs": [
    {
     "name": "stdout",
     "output_type": "stream",
     "text": [
      "enter a numbers that you want to print in your list :3\n",
      "enter element:11\n",
      "['11']\n",
      "enter element:12\n",
      "['11', '12']\n",
      "enter element:12\n",
      "['11', '12', '12']\n",
      "enter element that you want to remove:11\n",
      "enter the occurence that you want to remove:1\n",
      "the number of repetitons is  1\n",
      "updated list is: ['12']\n",
      "the district element are: {'11', '12'}\n",
      "the number of repetitons is  1\n",
      "updated list is: ['12', '12']\n",
      "the district element are: {'11', '12'}\n"
     ]
    }
   ],
   "source": [
    "#program to remove i'th occurence\n",
    "a=[]\n",
    "n=int(input(\"enter a numbers that you want to print in your list :\"))\n",
    "for x in range(0,n):\n",
    "    element=input(\"enter element:\")\n",
    "    a.append(element)\n",
    "    print(a)\n",
    "c=[]\n",
    "count=0\n",
    "b=input(\"enter element that you want to remove:\")\n",
    "n=int(input(\"enter the occurence that you want to remove:\"))\n",
    "for i in a:\n",
    "    if(i==b):\n",
    "        count=count+1\n",
    "        if(count!=n):\n",
    "            c.append(i)\n",
    "    else:\n",
    "        c.append(i)\n",
    "        if(count==0):\n",
    "            print(\"element not found\")\n",
    "        else:\n",
    "            print(\"the number of repetitons is \", count)\n",
    "            print(\"updated list is:\",c)\n",
    "            print(\"the district element are:\",set(a))"
   ]
  },
  {
   "cell_type": "code",
   "execution_count": 3,
   "id": "195328ca",
   "metadata": {},
   "outputs": [
    {
     "name": "stdout",
     "output_type": "stream",
     "text": [
      "enter string: a a a aaa. aaaa aaa aaa aaa aaaa\n",
      "enter wordaaa\n",
      "count of word is :\n",
      "1\n",
      "count of word is :\n",
      "2\n",
      "count of word is :\n",
      "3\n"
     ]
    }
   ],
   "source": [
    "#practical 5\n",
    "\n",
    "string=input(\"enter string:\")\n",
    "word=input(\"enter word\")\n",
    "a=[]\n",
    "count=0\n",
    "a=string.split(\" \")\n",
    "for i in range (0,len(a)):\n",
    "    if(word==a[i]):\n",
    "        count=count+1\n",
    "        print(\"count of word is :\")\n",
    "        print (count)"
   ]
  },
  {
   "cell_type": "code",
   "execution_count": 31,
   "id": "f9b1dd8b",
   "metadata": {},
   "outputs": [
    {
     "name": "stdout",
     "output_type": "stream",
     "text": [
      "enter string:what are you doing bro how are you\n",
      "enter sub string: are you\n",
      "string is present:\n"
     ]
    }
   ],
   "source": [
    "#program to check substring is present in string or not\n",
    "\n",
    "string=input(\"enter string:\")\n",
    "sub_string=input(\"enter sub string: \")\n",
    "\n",
    "if(sub_string in string):\n",
    "    print(\"string is present:\")\n",
    "else:\n",
    "    print(\"sub_string is not present:\")"
   ]
  },
  {
   "cell_type": "code",
   "execution_count": 38,
   "id": "c3522e48",
   "metadata": {},
   "outputs": [
    {
     "name": "stdout",
     "output_type": "stream",
     "text": [
      "for keys \n",
      "enter the number of key:2\n",
      "enter the key 1:3\n",
      "enter the key 2:3\n",
      "enter the number of values:2\n",
      "enter values 1:5\n",
      "enter values 2:5\n",
      "{3: 5}\n"
     ]
    }
   ],
   "source": [
    "#zip key and values\n",
    "\n",
    "print(\"for keys \")\n",
    "\n",
    "a=[]\n",
    "n=int(input(\"enter the number of key:\"))\n",
    "for x in range (0,n):\n",
    "    keys=int(input(\"enter the key \"+str(x+1)+\":\"))\n",
    "    a.append(keys)\n",
    "b=[]\n",
    "m=int(input(\"enter the number of values:\"))\n",
    "for y in range (0,m):\n",
    "    values=int(input(\"enter values \"+str(y+1)+\":\"))\n",
    "    b.append(values)\n",
    "    \n",
    "fun=dict(zip(a,b))\n",
    "print (fun)"
   ]
  },
  {
   "cell_type": "code",
   "execution_count": 41,
   "id": "8732f47f",
   "metadata": {},
   "outputs": [
    {
     "name": "stdout",
     "output_type": "stream",
     "text": [
      "enter the string:hey hey gow ho hih hih \n",
      "{'hey': 2, 'gow': 1, 'ho': 1, 'hih': 2}\n"
     ]
    }
   ],
   "source": [
    "string=input(\"enter the string:\")\n",
    "list2=string.split()\n",
    "list1=[string.count(i) for i in list2]\n",
    "print(dict(zip(list2,list1)))"
   ]
  },
  {
   "cell_type": "code",
   "execution_count": null,
   "id": "1c76acff",
   "metadata": {},
   "outputs": [],
   "source": []
  }
 ],
 "metadata": {
  "kernelspec": {
   "display_name": "Python 3 (ipykernel)",
   "language": "python",
   "name": "python3"
  },
  "language_info": {
   "codemirror_mode": {
    "name": "ipython",
    "version": 3
   },
   "file_extension": ".py",
   "mimetype": "text/x-python",
   "name": "python",
   "nbconvert_exporter": "python",
   "pygments_lexer": "ipython3",
   "version": "3.11.5"
  }
 },
 "nbformat": 4,
 "nbformat_minor": 5
}

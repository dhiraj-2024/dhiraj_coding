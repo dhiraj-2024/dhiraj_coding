{
 "cells": [
  {
   "cell_type": "code",
   "execution_count": 3,
   "id": "f94cfd55",
   "metadata": {},
   "outputs": [
    {
     "name": "stdout",
     "output_type": "stream",
     "text": [
      "enter number of element in array : 4\n",
      "enter element1=2\n",
      "enter element2=4\n",
      "enter element3=6\n",
      "enter element4=8\n",
      "[2, 4, 6, 8]\n"
     ]
    }
   ],
   "source": [
    "#take input in array from user and prinr sum of all elements in array\n",
    "\n",
    "arr=[]\n",
    "n=int(input(\"enter number of element in array : \"))\n",
    "for i in range(0,n):\n",
    "    elements=int(input(\"enter element\"+str(i+1)+\"=\"))\n",
    "    arr.append(elements)\n",
    "print(arr)\n",
    "    "
   ]
  },
  {
   "cell_type": "code",
   "execution_count": null,
   "id": "5c0519e8",
   "metadata": {},
   "outputs": [],
   "source": []
  }
 ],
 "metadata": {
  "kernelspec": {
   "display_name": "Python 3 (ipykernel)",
   "language": "python",
   "name": "python3"
  },
  "language_info": {
   "codemirror_mode": {
    "name": "ipython",
    "version": 3
   },
   "file_extension": ".py",
   "mimetype": "text/x-python",
   "name": "python",
   "nbconvert_exporter": "python",
   "pygments_lexer": "ipython3",
   "version": "3.11.5"
  }
 },
 "nbformat": 4,
 "nbformat_minor": 5
}

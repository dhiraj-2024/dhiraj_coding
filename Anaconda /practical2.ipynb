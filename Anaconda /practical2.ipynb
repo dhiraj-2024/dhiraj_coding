{
 "cells": [
  {
   "cell_type": "code",
   "execution_count": 1,
   "id": "ea936ec3",
   "metadata": {},
   "outputs": [
    {
     "name": "stdout",
     "output_type": "stream",
     "text": [
      "Elements in list 1 is : [11, 44, 55, 33, 77, 88, 65, 99, 44]\n",
      "Elements in list 2 is : [33, 54, 66, 78, 97, 33, 22, 55, 67]\n"
     ]
    }
   ],
   "source": [
    "#Dhiraj Rajput \n",
    "#Roll No : 08\n",
    "#python practical no: 02\n",
    "\n",
    "#print list\n",
    "\n",
    "list1=[11,44,55,33,77,88,65,99,44]\n",
    "list2=[33,54,66,78,97,33,22,55,67]\n",
    "print(\"Elements in list 1  :\",list1)\n",
    "print(\"Elements in list 2  :\",list2)"
   ]
  },
  {
   "cell_type": "code",
   "execution_count": 17,
   "id": "50ad62ac",
   "metadata": {},
   "outputs": [
    {
     "name": "stdout",
     "output_type": "stream",
     "text": [
      "Union of list1 and list2 : {33, 65, 99, 66, 97, 67, 11, 44, 77, 78, 54, 55, 88, 22}\n",
      "Union of list3 and list4 : {'t', 'i', 'h', 'c', 'g', 'd', 'u', 'a', 'o', 'e', 'w', 'y', 'f', 's', 'b', 'r', 'j', 'v', 'k'}\n",
      "Union of list1,list2,list3,list4 : {'t', 11, 'u', 'd', 'o', 22, 'w', 33, 's', 'b', 44, 54, 'v', 55, 'k', 65, 66, 67, 'i', 'c', 'g', 77, 78, 'a', 'e', 88, 'y', 97, 99, 'f', 'r', 'j', 'h'}\n"
     ]
    }
   ],
   "source": [
    "#union of two lists\n",
    "\n",
    "\n",
    "list1=[11,44,55,33,77,88,65,99,44]\n",
    "list2=[33,54,66,78,97,33,22,55,67]\n",
    "list3=['a','d','g','t','u','i','o','h','v','b','f','r','d','e','g','j','k']\n",
    "list4=['w','e','f','g','h','j','k','y','u','i','o','c','b','v','s','a','k']\n",
    "set1=set(list1)\n",
    "set2=set(list2)\n",
    "set3=set(list3)\n",
    "set4=set(list4)\n",
    "print(\"Union of list1 and list2 :\",set1.union(set2))\n",
    "print(\"Union of list3 and list4 :\",set3.union(set4))\n",
    "print(\"Union of list1,list2,list3,list4 :\",set1.union(set2).union(set3).union(set4))\n"
   ]
  },
  {
   "cell_type": "code",
   "execution_count": 18,
   "id": "1078ac4c",
   "metadata": {},
   "outputs": [
    {
     "name": "stdout",
     "output_type": "stream",
     "text": [
      "intersection of list1 and list2 : {33, 55}\n",
      "intersection of list3 and list4 : {'i', 'h', 'f', 'b', 'u', 'g', 'a', 'o', 'j', 'e', 'v', 'k'}\n",
      "intersection of list1,list2,list3,list4 : set()\n"
     ]
    }
   ],
   "source": [
    "#intersection of two lists\n",
    "\n",
    "list1=[11,44,55,33,77,88,65,99,44]\n",
    "list2=[33,54,66,78,97,33,22,55,67]\n",
    "list3=['a','d','g','t','u','i','o','h','v','b','f','r','d','e','g','j','k']\n",
    "list4=['w','e','f','g','h','j','k','y','u','i','o','c','b','v','s','a','k']\n",
    "set1=set(list1)\n",
    "set2=set(list2)\n",
    "set3=set(list3)\n",
    "set4=set(list4)\n",
    "print(\"intersection of list1 and list2 :\",set1.intersection(set2))\n",
    "print(\"intersection of list3 and list4 :\",set3.intersection(set4))\n",
    "print(\"intersection of list1,list2,list3,list4 :\",set1.intersection(set2).intersection(set3).intersection(set4))"
   ]
  },
  {
   "cell_type": "code",
   "execution_count": 15,
   "id": "b8fd53e6",
   "metadata": {},
   "outputs": [
    {
     "name": "stdout",
     "output_type": "stream",
     "text": [
      "Element in list5 : [12, 3, 4, 't', 5, 'e', 'g', 'd', 5, 7]\n",
      "Element in list6 : [3, 'g', 'j', 7, 'h', 'f', 'd', 5, 'e', 5, 6]\n"
     ]
    }
   ],
   "source": [
    "#print 2 lists that are combined number and charecter:\n",
    "\n",
    "list5=[12,3,4,'t',5,'e','g','d',5,7]\n",
    "list6=[3,'g','j',7,'h','f','d',5,'e',5,6]\n",
    "\n",
    "print(\"Element in list5 :\",list5)\n",
    "print(\"Element in list6 :\",list6)"
   ]
  },
  {
   "cell_type": "code",
   "execution_count": null,
   "id": "ce4a9dd4",
   "metadata": {},
   "outputs": [],
   "source": []
  },
  {
   "cell_type": "code",
   "execution_count": null,
   "id": "156e96f5",
   "metadata": {},
   "outputs": [],
   "source": []
  },
  {
   "cell_type": "code",
   "execution_count": null,
   "id": "a9b2b76c",
   "metadata": {},
   "outputs": [],
   "source": []
  },
  {
   "cell_type": "code",
   "execution_count": null,
   "id": "f28873ab",
   "metadata": {},
   "outputs": [],
   "source": []
  }
 ],
 "metadata": {
  "kernelspec": {
   "display_name": "Python 3 (ipykernel)",
   "language": "python",
   "name": "python3"
  },
  "language_info": {
   "codemirror_mode": {
    "name": "ipython",
    "version": 3
   },
   "file_extension": ".py",
   "mimetype": "text/x-python",
   "name": "python",
   "nbconvert_exporter": "python",
   "pygments_lexer": "ipython3",
   "version": "3.11.5"
  }
 },
 "nbformat": 4,
 "nbformat_minor": 5
}

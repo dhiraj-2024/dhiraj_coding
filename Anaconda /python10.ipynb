{
 "cells": [
  {
   "cell_type": "code",
   "execution_count": 3,
   "id": "211f2e70",
   "metadata": {},
   "outputs": [
    {
     "name": "stdout",
     "output_type": "stream",
     "text": [
      "The list is :\n",
      "[1, 2, 3, 11, 34, 52, 78]\n",
      "The length of the string is : \n",
      "7\n"
     ]
    }
   ],
   "source": [
    "#The program takes a list and finds the length of the list recursively.\n",
    "\n",
    "def list_length(my_list):\n",
    "    if not my_list:\n",
    "        return 0\n",
    "    return 1 + list_length(my_list[1::2]) + list_length(my_list[2::2])\n",
    "my_list = [1, 2, 3, 11, 34, 52, 78]\n",
    "print(\"The list is :\")\n",
    "print(my_list)\n",
    "print(\"The length of the string is : \")\n",
    "print(list_length(my_list))"
   ]
  },
  {
   "cell_type": "code",
   "execution_count": 4,
   "id": "e2aed3eb",
   "metadata": {},
   "outputs": [
    {
     "name": "stdout",
     "output_type": "stream",
     "text": [
      "Length of the string is: \n",
      "[1, 2, 3]\n"
     ]
    }
   ],
   "source": [
    "def length(lst):\n",
    "    if not lst:\n",
    "        return 0\n",
    "    return 1 + length(lst[1::2]) + length(lst[2::2])\n",
    "a=[1,2,3]\n",
    "print(\"Length of the string is: \")\n",
    "print(a)"
   ]
  },
  {
   "cell_type": "code",
   "execution_count": null,
   "id": "fdceea5b",
   "metadata": {},
   "outputs": [],
   "source": [
    "skjfkh\n"
   ]
  }
 ],
 "metadata": {
  "kernelspec": {
   "display_name": "Python 3 (ipykernel)",
   "language": "python",
   "name": "python3"
  },
  "language_info": {
   "codemirror_mode": {
    "name": "ipython",
    "version": 3
   },
   "file_extension": ".py",
   "mimetype": "text/x-python",
   "name": "python",
   "nbconvert_exporter": "python",
   "pygments_lexer": "ipython3",
   "version": "3.11.5"
  }
 },
 "nbformat": 4,
 "nbformat_minor": 5
}

{
 "cells": [
  {
   "cell_type": "code",
   "execution_count": 2,
   "id": "ace1a7cd",
   "metadata": {},
   "outputs": [
    {
     "name": "stdout",
     "output_type": "stream",
     "text": [
      "union {64, 34, 42, 43, 75, 53, 54, 23, 24}\n",
      "intersection {24, 54, 23}\n",
      "difference {42, 43, 53}\n",
      "symetrical differnce {64, 34, 42, 43, 75, 53}\n"
     ]
    }
   ],
   "source": [
    "#Program no 2.PYTHON\n",
    "#find union intersection and difference in lists\n",
    "\n",
    "a={23,43,42,23,24,54,53}\n",
    "b={54,75,34,24,64,23,64}\n",
    "\n",
    "print(\"union\",a|b)\n",
    "print(\"intersection\",a&b)\n",
    "print(\"difference\",a-b)\n",
    "print(\"difference\",b-a)\n",
    "print(\"symetrical differnce\",a^b)"
   ]
  },
  {
   "cell_type": "code",
   "execution_count": null,
   "id": "d7098f38",
   "metadata": {},
   "outputs": [],
   "source": []
  },
  {
   "cell_type": "code",
   "execution_count": null,
   "id": "c180191d",
   "metadata": {},
   "outputs": [],
   "source": []
  }
 ],
 "metadata": {
  "kernelspec": {
   "display_name": "Python 3 (ipykernel)",
   "language": "python",
   "name": "python3"
  },
  "language_info": {
   "codemirror_mode": {
    "name": "ipython",
    "version": 3
   },
   "file_extension": ".py",
   "mimetype": "text/x-python",
   "name": "python",
   "nbconvert_exporter": "python",
   "pygments_lexer": "ipython3",
   "version": "3.11.5"
  }
 },
 "nbformat": 4,
 "nbformat_minor": 5
}

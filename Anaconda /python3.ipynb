{
 "cells": [
  {
   "cell_type": "code",
   "execution_count": 16,
   "id": "6f16b3a5",
   "metadata": {},
   "outputs": [
    {
     "name": "stdout",
     "output_type": "stream",
     "text": [
      "enter your choice:4\n",
      "enter any number:1\n",
      "enter any number:2\n",
      "enter any number:3\n",
      "enter any number:4\n",
      "enter your choice:4\n",
      "enter any number:1\n",
      "enter any number:2\n",
      "enter any number:6\n",
      "enter any number:7\n",
      "union of l1 and l2 is  [1, 2, 3, 4, 6, 7]\n",
      "intersection of l1 and l2 is  []\n"
     ]
    }
   ],
   "source": [
    "l1=[]\n",
    "num6=int (input(\"enter your choice:\"))\n",
    "\n",
    "for n in range(num6):\n",
    "    num1=int(input(\"enter any number:\"))\n",
    "    l1.append(num1)\n",
    "    \n",
    "    l2=[]\n",
    "num5=int (input(\"enter your choice:\"))\n",
    "\n",
    "for n in range(num5):\n",
    "    num2=int(input(\"enter any number:\"))\n",
    "    l2.append(num2)\n",
    "    \n",
    "    \n",
    "union=list(set().union(l1,l2))\n",
    "print(\"union of l1 and l2 is \",union)\n",
    "intersection=list(set().intersection(l1,l2))\n",
    "print(\"intersection of l1 and l2 is \",intersection)"
   ]
  },
  {
   "cell_type": "markdown",
   "id": "fd7d7b14",
   "metadata": {},
   "source": []
  },
  {
   "cell_type": "code",
   "execution_count": 15,
   "id": "ad2c8d3b",
   "metadata": {},
   "outputs": [
    {
     "name": "stdout",
     "output_type": "stream",
     "text": [
      "enter your choice:5\n",
      "enter any number:1\n",
      "enter any number:2\n",
      "enter any number:3\n",
      "enter any number:4\n",
      "enter any number:5\n",
      "enter your choice:5\n",
      "enter any number:1\n",
      "enter any number:2\n",
      "enter any number:3\n",
      "enter any number:4\n",
      "enter any number:5\n",
      "intersection of l1 and l2 is  []\n"
     ]
    }
   ],
   "source": [
    "l1=[]\n",
    "num6=int (input(\"enter your choice:\"))\n",
    "\n",
    "for n in range(num6):\n",
    "    num1=int(input(\"enter any number:\"))\n",
    "    l1.append(num1)\n",
    "    \n",
    "    l2=[]\n",
    "num5=int (input(\"enter your choice:\"))\n",
    "\n",
    "for n in range(num5):\n",
    "    num2=int(input(\"enter any number:\"))\n",
    "    l2.append(num2)\n",
    "    \n",
    "    \n",
    "intersection=list(set().intersection(l1,l2))\n",
    "print(\"intersection of l1 and l2 is \",intersection)"
   ]
  },
  {
   "cell_type": "code",
   "execution_count": null,
   "id": "44b6271d",
   "metadata": {},
   "outputs": [],
   "source": []
  }
 ],
 "metadata": {
  "kernelspec": {
   "display_name": "Python 3 (ipykernel)",
   "language": "python",
   "name": "python3"
  },
  "language_info": {
   "codemirror_mode": {
    "name": "ipython",
    "version": 3
   },
   "file_extension": ".py",
   "mimetype": "text/x-python",
   "name": "python",
   "nbconvert_exporter": "python",
   "pygments_lexer": "ipython3",
   "version": "3.11.5"
  }
 },
 "nbformat": 4,
 "nbformat_minor": 5
}

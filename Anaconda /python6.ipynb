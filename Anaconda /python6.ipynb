{
 "cells": [
  {
   "cell_type": "code",
   "execution_count": 8,
   "id": "80dd9294",
   "metadata": {},
   "outputs": [
    {
     "name": "stdout",
     "output_type": "stream",
     "text": [
      "Enter string:hey hello how are you what is your name \n",
      "Enter word:on\n",
      "Substring not found in string!\n"
     ]
    }
   ],
   "source": [
    "string=input(\"Enter string:\")\n",
    "sub_str=input(\"Enter word:\") \n",
    "if(string.find(sub_str)==-1):\n",
    " print(\"Substring not found in string!\") \n",
    "else:\n",
    " print(\"Substring in string!\")\n"
   ]
  },
  {
   "cell_type": "code",
   "execution_count": 13,
   "id": "e589da09",
   "metadata": {},
   "outputs": [
    {
     "name": "stdout",
     "output_type": "stream",
     "text": [
      "enter string: enter string: hey hello how are you prajwal saheba\n",
      "enter substring: a\n",
      "substring is present \n"
     ]
    }
   ],
   "source": [
    "\n",
    "string = input(\"enter string: \") \n",
    "sub_str = input(\"enter substring: \") \n",
    "if sub_str in string:\n",
    " print(\"substring is present \") \n",
    "else:\n",
    " print(\"substring is not present\")"
   ]
  },
  {
   "cell_type": "code",
   "execution_count": 16,
   "id": "d5dc748b",
   "metadata": {},
   "outputs": [
    {
     "name": "stdout",
     "output_type": "stream",
     "text": [
      "14\n"
     ]
    }
   ],
   "source": [
    "txt= \"hello welcome to my world\"\n",
    "x= txt.find(\"to\")\n",
    "print(x)"
   ]
  },
  {
   "cell_type": "code",
   "execution_count": null,
   "id": "919dd79c",
   "metadata": {},
   "outputs": [],
   "source": [
    "string=\"hello python\""
   ]
  }
 ],
 "metadata": {
  "kernelspec": {
   "display_name": "Python 3 (ipykernel)",
   "language": "python",
   "name": "python3"
  },
  "language_info": {
   "codemirror_mode": {
    "name": "ipython",
    "version": 3
   },
   "file_extension": ".py",
   "mimetype": "text/x-python",
   "name": "python",
   "nbconvert_exporter": "python",
   "pygments_lexer": "ipython3",
   "version": "3.11.5"
  }
 },
 "nbformat": 4,
 "nbformat_minor": 5
}

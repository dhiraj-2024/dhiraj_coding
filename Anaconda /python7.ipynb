{
 "cells": [
  {
   "cell_type": "code",
   "execution_count": 2,
   "id": "d89bc7c0",
   "metadata": {},
   "outputs": [
    {
     "name": "stdout",
     "output_type": "stream",
     "text": [
      "{'red': '#FF0000', 'green': '#008000', 'blue': '#0000FF'}\n"
     ]
    }
   ],
   "source": [
    "\"\"\"\n",
    "Name:Pooja Pratap Nikam\n",
    "Class: SE CSD B.tech\n",
    "Batch:s2\n",
    "Roll NO:32\n",
    "\"\"\"\n",
    "#Practical NO: 07\n",
    "#python program to map two list in dictionary.\n",
    "keys = ['red', 'green', 'blue']\n",
    "values = ['#FF0000', '#008000', '#0000FF']\n",
    "color_dictionary = dict(zip(keys, values))\n",
    "print(color_dictionary)\n",
    "\n",
    "output:\n",
    "    {'red': '#FF0000', 'green': '#008000', 'blue': '#0000FF'}\n",
    "    \n",
    "    \n",
    "#********************************************************************************* \n",
    "    \n",
    "    keys=[]\n",
    "values=[]\n",
    "n=int(input(\"Enter number of elements for dictionary:\"))\n",
    "print(\"For keys:\")\n",
    "for x in range(0,n):\n",
    "    element=int(input(\"Enter element\" + str(x+1) + \":\"))\n",
    "    keys.append(element)\n",
    "print(\"For values:\")\n",
    "for x in range(0,n):\n",
    "    element=input(\"Enter element\" + str(x+1) + \":\")\n",
    "    values.append(element)\n",
    "d=dict(zip(keys,values))\n",
    "print(\"The dictionary is:\")\n",
    "print(d)\n",
    "\n",
    "output:\n",
    "    \n",
    "    Enter number of elements for dictionary:3\n",
    "For keys:\n",
    "Enter element1:11\n",
    "Enter element2:22\n",
    "Enter element3:33\n",
    "For values:\n",
    "Enter element1:Pooja\n",
    "Enter element2:Riya\n",
    "Enter element3:Priya\n",
    "The dictionary is:\n",
    "{11: 'Pooja', 22: 'Riya', 33: 'Priya'}"
   ]
  },
  {
   "cell_type": "code",
   "execution_count": 2,
   "id": "ed998413",
   "metadata": {},
   "outputs": [
    {
     "name": "stdout",
     "output_type": "stream",
     "text": [
      "Enter number of elements for dictionary:3\n",
      "For keys:\n",
      "Enter element1:11\n",
      "Enter element2:22\n",
      "Enter element3:33\n",
      "For values:\n",
      "Enter element1:Pooja\n",
      "Enter element2:Riya\n",
      "Enter element3:Priya\n",
      "The dictionary is:\n",
      "{11: 'Pooja', 22: 'Riya', 33: 'Priya'}\n"
     ]
    }
   ],
   "source": [
    "keys=[]\n",
    "values=[]\n",
    "n=int(input(\"Enter number of elements for dictionary:\"))\n",
    "print(\"For keys:\")\n",
    "for x in range(0,n):\n",
    "    element=int(input(\"Enter element\" + str(x+1) + \":\"))\n",
    "    keys.append(element)\n",
    "print(\"For values:\")\n",
    "for x in range(0,n):\n",
    "    element=input(\"Enter element\" + str(x+1) + \":\")\n",
    "    values.append(element)\n",
    "d=dict(zip(keys,values))\n",
    "print(\"The dictionary is:\")\n",
    "print(d)"
   ]
  },
  {
   "cell_type": "markdown",
   "id": "5c3b5c21",
   "metadata": {},
   "source": []
  }
 ],
 "metadata": {
  "kernelspec": {
   "display_name": "Python 3 (ipykernel)",
   "language": "python",
   "name": "python3"
  },
  "language_info": {
   "codemirror_mode": {
    "name": "ipython",
    "version": 3
   },
   "file_extension": ".py",
   "mimetype": "text/x-python",
   "name": "python",
   "nbconvert_exporter": "python",
   "pygments_lexer": "ipython3",
   "version": "3.11.5"
  }
 },
 "nbformat": 4,
 "nbformat_minor": 5
}

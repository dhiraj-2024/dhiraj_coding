{
 "cells": [
  {
   "cell_type": "code",
   "execution_count": 1,
   "id": "1ab6e5e6",
   "metadata": {},
   "outputs": [
    {
     "name": "stdout",
     "output_type": "stream",
     "text": [
      "Enter the string :hhh sjljj ljklj ljekj ssed ojh pkjh\n",
      "The frequency of words is ...\n",
      "{'hhh': 1, 'sjljj': 1, 'ljklj': 1, 'ljekj': 1, 'ssed': 1, 'ojh': 1, 'pkjh': 1}\n"
     ]
    }
   ],
   "source": [
    "#Program to count the frequency of words appearing in a string using a Dictionary.\n",
    "\n",
    "my_string = input(\"Enter the string :\")\n",
    "my_list=[]\n",
    "my_list=my_string.split()\n",
    "word_freq=[my_list.count(p) for p in my_list]\n",
    "print(\"The frequency of words is ...\")\n",
    "print(dict(zip(my_list,word_freq)))"
   ]
  },
  {
   "cell_type": "code",
   "execution_count": 2,
   "id": "42d479a1",
   "metadata": {},
   "outputs": [
    {
     "name": "stdout",
     "output_type": "stream",
     "text": [
      "Enter string:hello dhirah hoe. skh hio\n",
      "{'hello': 1, 'dhirah': 1, 'hoe.': 1, 'skh': 1, 'hio': 1}\n"
     ]
    }
   ],
   "source": [
    "test_string=input(\"Enter string:\")\n",
    "l=[]\n",
    "l=test_string.split()\n",
    "wordfreq=[l.count(p) for p in l]\n",
    "print(dict(zip(l,wordfreq)))"
   ]
  },
  {
   "cell_type": "code",
   "execution_count": null,
   "id": "9f0854b9",
   "metadata": {},
   "outputs": [],
   "source": []
  }
 ],
 "metadata": {
  "kernelspec": {
   "display_name": "Python 3 (ipykernel)",
   "language": "python",
   "name": "python3"
  },
  "language_info": {
   "codemirror_mode": {
    "name": "ipython",
    "version": 3
   },
   "file_extension": ".py",
   "mimetype": "text/x-python",
   "name": "python",
   "nbconvert_exporter": "python",
   "pygments_lexer": "ipython3",
   "version": "3.11.5"
  }
 },
 "nbformat": 4,
 "nbformat_minor": 5
}
